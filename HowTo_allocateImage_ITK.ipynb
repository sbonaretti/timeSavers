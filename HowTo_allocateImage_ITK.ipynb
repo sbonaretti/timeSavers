{
 "cells": [
  {
   "cell_type": "markdown",
   "metadata": {},
   "source": [
    "# How to allocate an ITK image in Python"
   ]
  },
  {
   "cell_type": "markdown",
   "metadata": {},
   "source": [
    "Import ITK"
   ]
  },
  {
   "cell_type": "code",
   "execution_count": 29,
   "metadata": {},
   "outputs": [],
   "source": [
    "import itk"
   ]
  },
  {
   "cell_type": "markdown",
   "metadata": {},
   "source": [
    "Define type of Image"
   ]
  },
  {
   "cell_type": "code",
   "execution_count": 30,
   "metadata": {},
   "outputs": [],
   "source": [
    "Dimension = 3\n",
    "PixelType = itk.ctype('float')\n",
    "ImageType = itk.Image[PixelType, Dimension]"
   ]
  },
  {
   "cell_type": "markdown",
   "metadata": {},
   "source": [
    "Create image"
   ]
  },
  {
   "cell_type": "code",
   "execution_count": 31,
   "metadata": {},
   "outputs": [],
   "source": [
    "image = ImageType.New()"
   ]
  },
  {
   "cell_type": "markdown",
   "metadata": {},
   "source": [
    "Index"
   ]
  },
  {
   "cell_type": "code",
   "execution_count": 32,
   "metadata": {},
   "outputs": [],
   "source": [
    "start = itk.Index[Dimension]()\n",
    "start[0] = 0  \n",
    "start[1] = 0  \n",
    "start[2] = 0  "
   ]
  },
  {
   "cell_type": "markdown",
   "metadata": {},
   "source": [
    "Size"
   ]
  },
  {
   "cell_type": "code",
   "execution_count": 33,
   "metadata": {},
   "outputs": [],
   "source": [
    "size = itk.Size[Dimension]()\n",
    "size[0] = 512  \n",
    "size[1] = 512  \n",
    "size[2] = 128  "
   ]
  },
  {
   "cell_type": "markdown",
   "metadata": {},
   "source": [
    "Assign _index_ and _size_ to the region, and allocate the image"
   ]
  },
  {
   "cell_type": "code",
   "execution_count": 34,
   "metadata": {},
   "outputs": [],
   "source": [
    "region = itk.ImageRegion[Dimension]()\n",
    "region.SetSize(size)\n",
    "region.SetIndex(start)\n",
    "\n",
    "image.SetRegions(region)\n",
    "image.Allocate()"
   ]
  },
  {
   "cell_type": "markdown",
   "metadata": {},
   "source": [
    "Spacing"
   ]
  },
  {
   "cell_type": "code",
   "execution_count": 35,
   "metadata": {},
   "outputs": [],
   "source": [
    "spacing = itk.Vector[itk.F, 3]()\n",
    "spacing[0] = 0.3\n",
    "spacing[1] = 0.3\n",
    "spacing[2] = 0.7\n",
    "image.SetSpacing(spacing)"
   ]
  },
  {
   "cell_type": "markdown",
   "metadata": {},
   "source": [
    "Origin"
   ]
  },
  {
   "cell_type": "code",
   "execution_count": 36,
   "metadata": {},
   "outputs": [],
   "source": [
    "origin = itk.Point[itk.F, 3]()\n",
    "origin[0] = 0\n",
    "origin[1] = 0\n",
    "origin[2] = 0\n",
    "image.SetOrigin(origin)"
   ]
  },
  {
   "cell_type": "markdown",
   "metadata": {},
   "source": [
    "Direction"
   ]
  },
  {
   "cell_type": "code",
   "execution_count": 37,
   "metadata": {},
   "outputs": [],
   "source": [
    "direction = itk.Matrix[itk.F,3,3]().GetVnlMatrix()\n",
    "direction = image.GetDirection().GetVnlMatrix().set(0,0,-1) # r,c,value\n",
    "direction = image.GetDirection().GetVnlMatrix().set(0,1,0)\n",
    "direction = image.GetDirection().GetVnlMatrix().set(0,2,0)\n",
    "direction = image.GetDirection().GetVnlMatrix().set(1,0,0) # r,c,value\n",
    "direction = image.GetDirection().GetVnlMatrix().set(1,1,1)\n",
    "direction = image.GetDirection().GetVnlMatrix().set(1,2,0)\n",
    "direction = image.GetDirection().GetVnlMatrix().set(2,0,0) # r,c,value\n",
    "direction = image.GetDirection().GetVnlMatrix().set(2,1,0)\n",
    "direction = image.GetDirection().GetVnlMatrix().set(2,2,-1)"
   ]
  },
  {
   "cell_type": "markdown",
   "metadata": {},
   "source": [
    "Test assigned image characteristics:"
   ]
  },
  {
   "cell_type": "code",
   "execution_count": 38,
   "metadata": {},
   "outputs": [
    {
     "name": "stdout",
     "output_type": "stream",
     "text": [
      "Index:   0 0 0\n",
      "Size:    512 512 128\n",
      "Spacing: 0.30 0.30 0.70\n",
      "Origin:  0.00 0.00 0.00\n",
      "Direction:\n",
      "-1.00 0.00 0.00\n",
      "0.00 1.00 0.00\n",
      "0.00 0.00 -1.00\n"
     ]
    }
   ],
   "source": [
    "print(\"Index:   %d %d %d\"       % (image.GetLargestPossibleRegion().GetIndex()[0], image.GetLargestPossibleRegion().GetIndex()[1], image.GetLargestPossibleRegion().GetIndex()[2]))\n",
    "print(\"Size:    %d %d %d\"       % (image.GetLargestPossibleRegion().GetSize() [0], image.GetLargestPossibleRegion().GetSize() [1], image.GetLargestPossibleRegion().GetSize() [2]))\n",
    "print(\"Spacing: %.2f %.2f %.2f\" % (image.GetSpacing()[0], image.GetSpacing()[1], image.GetSpacing()[2]))\n",
    "print(\"Origin:  %.2f %.2f %.2f\" % (image.GetOrigin() [0], image.GetOrigin() [1], image.GetOrigin() [2]))\n",
    "print(\"Direction:\")\n",
    "for i in range(0,3):\n",
    "    print (    \"%.2f %.2f %.2f\" % (image.GetDirection().GetVnlMatrix().get(i,0), image.GetDirection().GetVnlMatrix().get(i,1), image.GetDirection().GetVnlMatrix().get(i,2)))\n",
    "    "
   ]
  },
  {
   "cell_type": "code",
   "execution_count": null,
   "metadata": {},
   "outputs": [],
   "source": []
  }
 ],
 "metadata": {
  "kernelspec": {
   "display_name": "Python 3",
   "language": "python",
   "name": "python3"
  },
  "language_info": {
   "codemirror_mode": {
    "name": "ipython",
    "version": 3
   },
   "file_extension": ".py",
   "mimetype": "text/x-python",
   "name": "python",
   "nbconvert_exporter": "python",
   "pygments_lexer": "ipython3",
   "version": "3.6.4"
  }
 },
 "nbformat": 4,
 "nbformat_minor": 2
}
